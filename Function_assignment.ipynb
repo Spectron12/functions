{
  "nbformat": 4,
  "nbformat_minor": 0,
  "metadata": {
    "colab": {
      "provenance": []
    },
    "kernelspec": {
      "name": "python3",
      "display_name": "Python 3"
    },
    "language_info": {
      "name": "python"
    }
  },
  "cells": [
    {
      "cell_type": "markdown",
      "source": [
        "# **Theory questions**\n",
        "\n",
        "---\n",
        "\n"
      ],
      "metadata": {
        "id": "h021xCs-R8FJ"
      }
    },
    {
      "cell_type": "markdown",
      "source": [
        "1. What is the difference between a function and a method in Python?\n",
        "- In Python, a function is a block of reusable code that performs a specific task and is defined using def, like def greet():. It can exist on its own, outside of any class.\n",
        "A method, on the other hand, is a function that's associated with an object—it’s defined inside a class and is called using dot notation, like object.method().\n",
        "So basically, all methods are functions, but not all functions are methods. The key difference is whether they belong to a class."
      ],
      "metadata": {
        "id": "DKBFNY8vSL1x"
      }
    },
    {
      "cell_type": "markdown",
      "source": [
        " 2. Explain the concept of function arguments and parameters in Python.\n",
        " -In Python, parameters are the names used in a function definition—placeholders for the values the function will receive. For example, in def add(a, b):, a and b are parameters.\n",
        "Arguments are the actual values you pass into a function when you call it, like add(5, 10). Here, 5 and 10 are arguments.\n",
        "So, parameters are like empty boxes, and arguments are the items you put into them when using the function"
      ],
      "metadata": {
        "id": "Nurf9qrwSjfA"
      }
    },
    {
      "cell_type": "markdown",
      "source": [
        " 3. What are the different ways to define and call a function in Python?"
      ],
      "metadata": {
        "id": "UnrAyKBySqTR"
      }
    },
    {
      "cell_type": "code",
      "source": [
        "def greet(name):\n",
        "    print(\"Hello\", name)"
      ],
      "metadata": {
        "id": "OKfvyh18Sybx"
      },
      "execution_count": null,
      "outputs": []
    },
    {
      "cell_type": "markdown",
      "source": [
        "To call it, just use its name and pass arguments: greet(\"tatai\").\n",
        "\n",
        "You can also define functions with:\n",
        "\n",
        "* Default arguments: def greet(name=\"Guest\")\n",
        "\n",
        "* *args for many unnamed arguments\n",
        "\n",
        "* **kwargs for many named arguments\n",
        "\n",
        "* Lambda functions (short one-liners): square = lambda x: x*x"
      ],
      "metadata": {
        "id": "CCQt1nFUS0Hh"
      }
    },
    {
      "cell_type": "markdown",
      "source": [
        " 4. What is the purpose of the `return` statement in a Python function?\n",
        " - The return statement is used to send a result back from a function to where it was called.\n",
        "It ends the function's execution and hands back a value. For example:"
      ],
      "metadata": {
        "id": "xJKwpK-9TGb5"
      }
    },
    {
      "cell_type": "code",
      "execution_count": null,
      "metadata": {
        "id": "QFsj4M0NRq9s"
      },
      "outputs": [],
      "source": [
        "def add(a, b):\n",
        "    return a + b"
      ]
    },
    {
      "cell_type": "markdown",
      "source": [
        "When you call add(2, 3), it gives back 5. Without return, the function just runs but doesn’t give you anything to use later."
      ],
      "metadata": {
        "id": "i31mQayjTPJR"
      }
    },
    {
      "cell_type": "markdown",
      "source": [
        " 5. What are iterators in Python and how do they differ from iterables?\n",
        " -  In Python, an iterable is any object you can loop over—like lists, strings, or tuples. It has an internal method __iter__() that returns an iterator.\n",
        "An iterator is an object that keeps state and produces the next value when you call next() on it. It has both __iter__() and __next__() methods\n",
        "\n",
        "In short:\n",
        "* Iterable = can be looped through\n",
        "* Iterator = does the actual iteration, one item at a time."
      ],
      "metadata": {
        "id": "zIbhi1OLTXLJ"
      }
    },
    {
      "cell_type": "markdown",
      "source": [
        " 6. Explain the concept of generators in Python and how they are defined.\n",
        " - Generators are a way to create iterators in a clean and memory-efficient way. Instead of returning all values at once, they yield one value at a time using the yield keyword."
      ],
      "metadata": {
        "id": "3OsZVaz9ToXp"
      }
    },
    {
      "cell_type": "code",
      "source": [
        "def count_up_to(n):\n",
        "    i = 1\n",
        "    while i <= n:\n",
        "        yield i\n",
        "        i += 1"
      ],
      "metadata": {
        "id": "bqVYR1AyTu3x"
      },
      "execution_count": null,
      "outputs": []
    },
    {
      "cell_type": "markdown",
      "source": [
        "7. What are the advantages of using generators over regular functions?\n",
        "- Generators are memory-efficient because they yield one item at a time, rather than storing the entire result in memory.\n",
        "They’re great for handling large datasets or infinite sequences since they pause after each yield and resume from there.\n",
        "Generators also make code more readable when working with streams or pipelines.\n",
        "Unlike regular functions, they don’t need to build full lists, which saves performance time too."
      ],
      "metadata": {
        "id": "I8c4tHaAT3gx"
      }
    },
    {
      "cell_type": "markdown",
      "source": [
        " 8. What is a lambda function in Python and when is it typically used?\n",
        " - A **lambda function** is a small, anonymous function defined with the lambda keyword. It’s used for simple, one-line operations.\n",
        "Example: lambda x: x + 2 adds 2 to x.\n",
        "\n",
        "They're typically used when you need a quick function for things like sorting, filtering, or mapping, especially when you don’t want to define a full def function."
      ],
      "metadata": {
        "id": "1IMz-NLET-BZ"
      }
    },
    {
      "cell_type": "markdown",
      "source": [
        " 9. Explain the purpose and usage of the `map()` function in Python.\n",
        " - The map() function applies a given function to each item in an iterable (like a list) and returns a map object (which is iterable).\n"
      ],
      "metadata": {
        "id": "ZDvCJbvXUD_h"
      }
    },
    {
      "cell_type": "code",
      "source": [
        "nums = [1, 2, 3]\n",
        "squared = map(lambda x: x**2, nums)\n",
        "print(list(squared))  # [1, 4, 9]"
      ],
      "metadata": {
        "colab": {
          "base_uri": "https://localhost:8080/"
        },
        "id": "vkdwowKaUJxB",
        "outputId": "e6d83ec2-f229-4012-a438-2d189e2311ed"
      },
      "execution_count": null,
      "outputs": [
        {
          "output_type": "stream",
          "name": "stdout",
          "text": [
            "[1, 4, 9]\n"
          ]
        }
      ]
    },
    {
      "cell_type": "markdown",
      "source": [
        " 10. What is the difference between `map()`, `reduce()`, and `filter()` functions in Python?\n",
        "* map(): Applies a function to every item in an iterable.\n",
        "Example: map(lambda x: x*2, [1,2,3]) → [2,4,6]\n",
        "* filter(): Keeps items where the function returns True.\n",
        "Example: filter(lambda x: x%2==0, [1,2,3]) → [2]\n",
        "* reduce(): Applies a function cumulatively to items (needs functools).\n",
        "Example: reduce(lambda x, y: x+y, [1,2,3]) → 6\n",
        "\n",
        "So, map transforms, filter selects, reduce combines."
      ],
      "metadata": {
        "id": "nYPvUBIzUOKJ"
      }
    },
    {
      "cell_type": "markdown",
      "source": [
        "![WhatsApp Image 2025-04-04 at 4.06.21 PM.jpeg](data:image/jpeg;base64,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)11. Using pen & Paper write the internal mechanism for sum operation using  reduce function on this given list:[47,11,42,13];\n"
      ],
      "metadata": {
        "id": "GwGAzbFMUam5"
      }
    },
    {
      "cell_type": "markdown",
      "source": [
        "# **Practical Questions**\n",
        "\n",
        "---\n",
        "\n"
      ],
      "metadata": {
        "id": "QQ0k65BlYMYa"
      }
    },
    {
      "cell_type": "markdown",
      "source": [
        " 1. Write a Python function that takes a list of numbers as input and returns the sum of all even numbers in the list."
      ],
      "metadata": {
        "id": "0v2renYHYXj5"
      }
    },
    {
      "cell_type": "code",
      "source": [
        "def sum_even_numbers(numbers):\n",
        "    return sum(num for num in numbers if num % 2 == 0)\n",
        "\n",
        "result = sum_even_numbers([1, 2, 3, 4, 5, 6])\n",
        "print(result)  # Output: 12\n"
      ],
      "metadata": {
        "colab": {
          "base_uri": "https://localhost:8080/"
        },
        "id": "pp54dFs6YnEZ",
        "outputId": "2c7957a3-dc51-4bae-92bc-77dbb1c4b6e0"
      },
      "execution_count": 11,
      "outputs": [
        {
          "output_type": "stream",
          "name": "stdout",
          "text": [
            "12\n"
          ]
        }
      ]
    },
    {
      "cell_type": "markdown",
      "source": [
        " 2. Create a Python function that accepts a string and returns the reverse of that string."
      ],
      "metadata": {
        "id": "GpBjOL5wZXo8"
      }
    },
    {
      "cell_type": "code",
      "source": [
        "def reverse_string(s):\n",
        "    return s[::-1]\n",
        "print(reverse_string(\"hello\"))  # Output: \"olleh\"\n"
      ],
      "metadata": {
        "colab": {
          "base_uri": "https://localhost:8080/"
        },
        "id": "3mjsQdhlZZpR",
        "outputId": "5f5dc906-5bbd-47ca-e340-754b5b0d671c"
      },
      "execution_count": 12,
      "outputs": [
        {
          "output_type": "stream",
          "name": "stdout",
          "text": [
            "olleh\n"
          ]
        }
      ]
    },
    {
      "cell_type": "markdown",
      "source": [
        " 3. Implement a Python function that takes a list of integers and returns a new list containing the squares of\n",
        "each number."
      ],
      "metadata": {
        "id": "5wy6uwplZdGp"
      }
    },
    {
      "cell_type": "code",
      "source": [
        "def square_list(numbers):\n",
        "    return [num**2 for num in numbers]\n",
        "print(square_list([1, 2, 3, 4]))  # Output: [1, 4, 9, 16]"
      ],
      "metadata": {
        "colab": {
          "base_uri": "https://localhost:8080/"
        },
        "id": "eqfDbquOZgqZ",
        "outputId": "47c8adac-c345-44bb-d285-64ee4a09822e"
      },
      "execution_count": 13,
      "outputs": [
        {
          "output_type": "stream",
          "name": "stdout",
          "text": [
            "[1, 4, 9, 16]\n"
          ]
        }
      ]
    },
    {
      "cell_type": "markdown",
      "source": [
        " 4. Write a Python function that checks if a given number is prime or not from 1 to 200."
      ],
      "metadata": {
        "id": "BbaODymqZnKR"
      }
    },
    {
      "cell_type": "code",
      "source": [
        "def is_prime(n):\n",
        "    if n < 2:\n",
        "        return False\n",
        "    for i in range(2, int(n**0.5)+1):\n",
        "        if n % i == 0:\n",
        "            return False\n",
        "    return True\n",
        "print(is_prime(17))  # Output: True\n",
        "print(is_prime(100)) # Output: False\n"
      ],
      "metadata": {
        "colab": {
          "base_uri": "https://localhost:8080/"
        },
        "id": "kwBiMhy4ZqEh",
        "outputId": "40ef6353-0ad5-4b82-c14c-1caa6c268485"
      },
      "execution_count": 15,
      "outputs": [
        {
          "output_type": "stream",
          "name": "stdout",
          "text": [
            "True\n",
            "False\n"
          ]
        }
      ]
    },
    {
      "cell_type": "markdown",
      "source": [
        " 5. Create an iterator class in Python that generates the Fibonacci sequence up to a specified number of terms."
      ],
      "metadata": {
        "id": "OeH3-J7OZ_wB"
      }
    },
    {
      "cell_type": "code",
      "source": [
        "class Fibonacci:\n",
        "    def __init__(self, terms):\n",
        "        self.terms = terms\n",
        "        self.a, self.b = 0, 1\n",
        "        self.count = 0\n",
        "\n",
        "    def __iter__(self):\n",
        "        return self\n",
        "\n",
        "    def __next__(self):\n",
        "        if self.count >= self.terms:\n",
        "            raise StopIteration\n",
        "        result = self.a\n",
        "        self.a, self.b = self.b, self.a + self.b\n",
        "        self.count += 1\n",
        "        return result\n",
        "for num in Fibonacci(7):\n",
        "    print(num, end= \" \")\n",
        "# Output: 0 1 1 2 3 5 8\n"
      ],
      "metadata": {
        "colab": {
          "base_uri": "https://localhost:8080/"
        },
        "id": "Gjk8LBwvaEeh",
        "outputId": "7e5cee8f-db03-4ddf-e25b-6b3e7332f47e"
      },
      "execution_count": 17,
      "outputs": [
        {
          "output_type": "stream",
          "name": "stdout",
          "text": [
            "0 1 1 2 3 5 8 "
          ]
        }
      ]
    },
    {
      "cell_type": "markdown",
      "source": [
        " 6. Write a generator function in Python that yields the powers of 2 up to a given exponent."
      ],
      "metadata": {
        "id": "LQzH17oCamfx"
      }
    },
    {
      "cell_type": "code",
      "source": [
        "def powers_of_two(n):\n",
        "    for i in range(n + 1):\n",
        "        yield 2 ** i\n",
        "for power in powers_of_two(5):\n",
        "    print(power)\n",
        "# Output: 1, 2, 4, 8, 16, 32\n"
      ],
      "metadata": {
        "colab": {
          "base_uri": "https://localhost:8080/"
        },
        "id": "fhTJw5WFaymK",
        "outputId": "f2aaf269-968f-45fa-f195-de76490651f0"
      },
      "execution_count": 19,
      "outputs": [
        {
          "output_type": "stream",
          "name": "stdout",
          "text": [
            "1\n",
            "2\n",
            "4\n",
            "8\n",
            "16\n",
            "32\n"
          ]
        }
      ]
    },
    {
      "cell_type": "markdown",
      "source": [
        " 7. Implement a generator function that reads a file line by line and yields each line as a string."
      ],
      "metadata": {
        "id": "cl-rBpdCb0Uh"
      }
    },
    {
      "cell_type": "code",
      "source": [
        "from google.colab import files\n",
        "uploaded = files.upload()\n",
        "\n",
        "def read_lines():\n",
        "    with open(\"example.txt\", \"r\") as file:\n",
        "        for line in file:\n",
        "            yield line.strip()\n",
        "\n",
        "for line in read_lines():\n",
        "    print(line)\n",
        "\n"
      ],
      "metadata": {
        "colab": {
          "base_uri": "https://localhost:8080/",
          "height": 142
        },
        "id": "0On8AoZ-bz1X",
        "outputId": "3aba3d2e-290f-4213-e312-e049aae6d05a"
      },
      "execution_count": 30,
      "outputs": [
        {
          "output_type": "display_data",
          "data": {
            "text/plain": [
              "<IPython.core.display.HTML object>"
            ],
            "text/html": [
              "\n",
              "     <input type=\"file\" id=\"files-9c2956cf-98f5-4846-8111-1029c1d9dac0\" name=\"files[]\" multiple disabled\n",
              "        style=\"border:none\" />\n",
              "     <output id=\"result-9c2956cf-98f5-4846-8111-1029c1d9dac0\">\n",
              "      Upload widget is only available when the cell has been executed in the\n",
              "      current browser session. Please rerun this cell to enable.\n",
              "      </output>\n",
              "      <script>// Copyright 2017 Google LLC\n",
              "//\n",
              "// Licensed under the Apache License, Version 2.0 (the \"License\");\n",
              "// you may not use this file except in compliance with the License.\n",
              "// You may obtain a copy of the License at\n",
              "//\n",
              "//      http://www.apache.org/licenses/LICENSE-2.0\n",
              "//\n",
              "// Unless required by applicable law or agreed to in writing, software\n",
              "// distributed under the License is distributed on an \"AS IS\" BASIS,\n",
              "// WITHOUT WARRANTIES OR CONDITIONS OF ANY KIND, either express or implied.\n",
              "// See the License for the specific language governing permissions and\n",
              "// limitations under the License.\n",
              "\n",
              "/**\n",
              " * @fileoverview Helpers for google.colab Python module.\n",
              " */\n",
              "(function(scope) {\n",
              "function span(text, styleAttributes = {}) {\n",
              "  const element = document.createElement('span');\n",
              "  element.textContent = text;\n",
              "  for (const key of Object.keys(styleAttributes)) {\n",
              "    element.style[key] = styleAttributes[key];\n",
              "  }\n",
              "  return element;\n",
              "}\n",
              "\n",
              "// Max number of bytes which will be uploaded at a time.\n",
              "const MAX_PAYLOAD_SIZE = 100 * 1024;\n",
              "\n",
              "function _uploadFiles(inputId, outputId) {\n",
              "  const steps = uploadFilesStep(inputId, outputId);\n",
              "  const outputElement = document.getElementById(outputId);\n",
              "  // Cache steps on the outputElement to make it available for the next call\n",
              "  // to uploadFilesContinue from Python.\n",
              "  outputElement.steps = steps;\n",
              "\n",
              "  return _uploadFilesContinue(outputId);\n",
              "}\n",
              "\n",
              "// This is roughly an async generator (not supported in the browser yet),\n",
              "// where there are multiple asynchronous steps and the Python side is going\n",
              "// to poll for completion of each step.\n",
              "// This uses a Promise to block the python side on completion of each step,\n",
              "// then passes the result of the previous step as the input to the next step.\n",
              "function _uploadFilesContinue(outputId) {\n",
              "  const outputElement = document.getElementById(outputId);\n",
              "  const steps = outputElement.steps;\n",
              "\n",
              "  const next = steps.next(outputElement.lastPromiseValue);\n",
              "  return Promise.resolve(next.value.promise).then((value) => {\n",
              "    // Cache the last promise value to make it available to the next\n",
              "    // step of the generator.\n",
              "    outputElement.lastPromiseValue = value;\n",
              "    return next.value.response;\n",
              "  });\n",
              "}\n",
              "\n",
              "/**\n",
              " * Generator function which is called between each async step of the upload\n",
              " * process.\n",
              " * @param {string} inputId Element ID of the input file picker element.\n",
              " * @param {string} outputId Element ID of the output display.\n",
              " * @return {!Iterable<!Object>} Iterable of next steps.\n",
              " */\n",
              "function* uploadFilesStep(inputId, outputId) {\n",
              "  const inputElement = document.getElementById(inputId);\n",
              "  inputElement.disabled = false;\n",
              "\n",
              "  const outputElement = document.getElementById(outputId);\n",
              "  outputElement.innerHTML = '';\n",
              "\n",
              "  const pickedPromise = new Promise((resolve) => {\n",
              "    inputElement.addEventListener('change', (e) => {\n",
              "      resolve(e.target.files);\n",
              "    });\n",
              "  });\n",
              "\n",
              "  const cancel = document.createElement('button');\n",
              "  inputElement.parentElement.appendChild(cancel);\n",
              "  cancel.textContent = 'Cancel upload';\n",
              "  const cancelPromise = new Promise((resolve) => {\n",
              "    cancel.onclick = () => {\n",
              "      resolve(null);\n",
              "    };\n",
              "  });\n",
              "\n",
              "  // Wait for the user to pick the files.\n",
              "  const files = yield {\n",
              "    promise: Promise.race([pickedPromise, cancelPromise]),\n",
              "    response: {\n",
              "      action: 'starting',\n",
              "    }\n",
              "  };\n",
              "\n",
              "  cancel.remove();\n",
              "\n",
              "  // Disable the input element since further picks are not allowed.\n",
              "  inputElement.disabled = true;\n",
              "\n",
              "  if (!files) {\n",
              "    return {\n",
              "      response: {\n",
              "        action: 'complete',\n",
              "      }\n",
              "    };\n",
              "  }\n",
              "\n",
              "  for (const file of files) {\n",
              "    const li = document.createElement('li');\n",
              "    li.append(span(file.name, {fontWeight: 'bold'}));\n",
              "    li.append(span(\n",
              "        `(${file.type || 'n/a'}) - ${file.size} bytes, ` +\n",
              "        `last modified: ${\n",
              "            file.lastModifiedDate ? file.lastModifiedDate.toLocaleDateString() :\n",
              "                                    'n/a'} - `));\n",
              "    const percent = span('0% done');\n",
              "    li.appendChild(percent);\n",
              "\n",
              "    outputElement.appendChild(li);\n",
              "\n",
              "    const fileDataPromise = new Promise((resolve) => {\n",
              "      const reader = new FileReader();\n",
              "      reader.onload = (e) => {\n",
              "        resolve(e.target.result);\n",
              "      };\n",
              "      reader.readAsArrayBuffer(file);\n",
              "    });\n",
              "    // Wait for the data to be ready.\n",
              "    let fileData = yield {\n",
              "      promise: fileDataPromise,\n",
              "      response: {\n",
              "        action: 'continue',\n",
              "      }\n",
              "    };\n",
              "\n",
              "    // Use a chunked sending to avoid message size limits. See b/62115660.\n",
              "    let position = 0;\n",
              "    do {\n",
              "      const length = Math.min(fileData.byteLength - position, MAX_PAYLOAD_SIZE);\n",
              "      const chunk = new Uint8Array(fileData, position, length);\n",
              "      position += length;\n",
              "\n",
              "      const base64 = btoa(String.fromCharCode.apply(null, chunk));\n",
              "      yield {\n",
              "        response: {\n",
              "          action: 'append',\n",
              "          file: file.name,\n",
              "          data: base64,\n",
              "        },\n",
              "      };\n",
              "\n",
              "      let percentDone = fileData.byteLength === 0 ?\n",
              "          100 :\n",
              "          Math.round((position / fileData.byteLength) * 100);\n",
              "      percent.textContent = `${percentDone}% done`;\n",
              "\n",
              "    } while (position < fileData.byteLength);\n",
              "  }\n",
              "\n",
              "  // All done.\n",
              "  yield {\n",
              "    response: {\n",
              "      action: 'complete',\n",
              "    }\n",
              "  };\n",
              "}\n",
              "\n",
              "scope.google = scope.google || {};\n",
              "scope.google.colab = scope.google.colab || {};\n",
              "scope.google.colab._files = {\n",
              "  _uploadFiles,\n",
              "  _uploadFilesContinue,\n",
              "};\n",
              "})(self);\n",
              "</script> "
            ]
          },
          "metadata": {}
        },
        {
          "output_type": "stream",
          "name": "stdout",
          "text": [
            "Saving example.txt to example (1).txt\n",
            "hii this is me Debojyoti.\n",
            "this is my python code.\n",
            "\n",
            "\n"
          ]
        }
      ]
    },
    {
      "cell_type": "markdown",
      "source": [
        "8. Use a lambda function in Python to sort a list of tuples based on the second element of each tuple."
      ],
      "metadata": {
        "id": "e0k43q3Kez1y"
      }
    },
    {
      "cell_type": "code",
      "source": [
        "data = [(1, 5), (3, 1), (4, 6), (2, 2)]\n",
        "sorted_data = sorted(data, key=lambda x: x[1])\n",
        "print(sorted_data)\n"
      ],
      "metadata": {
        "colab": {
          "base_uri": "https://localhost:8080/"
        },
        "id": "wevIkj10fOpq",
        "outputId": "cb209c0d-7bd1-4f40-ad29-be257a5a82f2"
      },
      "execution_count": 31,
      "outputs": [
        {
          "output_type": "stream",
          "name": "stdout",
          "text": [
            "[(3, 1), (2, 2), (1, 5), (4, 6)]\n"
          ]
        }
      ]
    },
    {
      "cell_type": "markdown",
      "source": [
        " 9. Write a Python program that uses `map()` to convert a list of temperatures from Celsius to Fahrenheit."
      ],
      "metadata": {
        "id": "Aq68fGNZfsNm"
      }
    },
    {
      "cell_type": "code",
      "source": [
        "celsius = [0, 20, 37, 100]\n",
        "fahrenheit = list(map(lambda c: (c * 9/5) + 32, celsius))\n",
        "print(fahrenheit)\n"
      ],
      "metadata": {
        "colab": {
          "base_uri": "https://localhost:8080/"
        },
        "id": "knQx4yNQfuK9",
        "outputId": "fbb51122-8a6d-41b6-94d2-b6cab2856710"
      },
      "execution_count": 32,
      "outputs": [
        {
          "output_type": "stream",
          "name": "stdout",
          "text": [
            "[32.0, 68.0, 98.6, 212.0]\n"
          ]
        }
      ]
    },
    {
      "cell_type": "markdown",
      "source": [
        " 10. Create a Python program that uses `filter()` to remove all the vowels from a given string."
      ],
      "metadata": {
        "id": "-U_TLKJlfxc6"
      }
    },
    {
      "cell_type": "code",
      "source": [
        "def remove_vowels(s):\n",
        "    return ''.join(filter(lambda ch: ch.lower() not in 'aeiou', s))\n",
        "\n",
        "# Example\n",
        "text = \"Python is awesome\"\n",
        "result = remove_vowels(text)\n",
        "print(result)\n"
      ],
      "metadata": {
        "colab": {
          "base_uri": "https://localhost:8080/"
        },
        "id": "NbXYiN02gJ_K",
        "outputId": "bb522a2d-483a-468f-ad3f-44786d27cece"
      },
      "execution_count": 33,
      "outputs": [
        {
          "output_type": "stream",
          "name": "stdout",
          "text": [
            "Pythn s wsm\n"
          ]
        }
      ]
    },
    {
      "cell_type": "markdown",
      "source": [
        " 11. Imagine an accounting routine used in a book shop. It works on a list with sublists, which look like this:"
      ],
      "metadata": {
        "id": "FuHV0tQ2gPra"
      }
    },
    {
      "cell_type": "code",
      "source": [
        "# Given book order data\n",
        "orders = [\n",
        "    (34587, \"Learning Python, Mark Lutz\", 4, 40.95),\n",
        "    (98762, \"Programming Python, Mark Lutz\", 5, 56.80),\n",
        "    (77226, \"Head First Python, Paul Barry\", 3, 32.95),\n",
        "    (88112, \"Einführung in Python3, Bernd Klein\", 3, 24.99)\n",
        "]\n",
        "\n",
        "# Using lambda and map to calculate total price and apply the 10€ increase condition\n",
        "result = list(map(lambda order: (order[0], order[2] * order[3] if order[2] * order[3] >= 100 else order[2] * order[3] + 10), orders))\n",
        "\n",
        "# Print result\n",
        "print(result)"
      ],
      "metadata": {
        "colab": {
          "base_uri": "https://localhost:8080/"
        },
        "id": "C7ZihlkMgq5i",
        "outputId": "d651d3bc-7634-4290-f6db-d0f42a07bd8c"
      },
      "execution_count": 34,
      "outputs": [
        {
          "output_type": "stream",
          "name": "stdout",
          "text": [
            "[(34587, 163.8), (98762, 284.0), (77226, 108.85000000000001), (88112, 84.97)]\n"
          ]
        }
      ]
    }
  ]
}